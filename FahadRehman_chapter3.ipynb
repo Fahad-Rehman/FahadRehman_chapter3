{
 "cells": [
  {
   "cell_type": "markdown",
   "metadata": {},
   "source": [
    "# Chapter 3<br>Fahad Abdul Rehman 19B-008-SE"
   ]
  },
  {
   "cell_type": "code",
   "execution_count": 1,
   "metadata": {},
   "outputs": [
    {
     "name": "stdout",
     "output_type": "stream",
     "text": [
      "Enter the temperature in Fahrenheit: 98\n",
      "The temperature in degree Centigrade is:  36.666666666666664\n"
     ]
    }
   ],
   "source": [
    "#Question No: 1\n",
    "fahrenheit = eval(input('Enter the temperature in Fahrenheit: '))\n",
    "celcius = (fahrenheit-32)*5/9\n",
    "print('The temperature in degree Centigrade is: ', celcius)"
   ]
  },
  {
   "cell_type": "code",
   "execution_count": 3,
   "metadata": {},
   "outputs": [
    {
     "name": "stdout",
     "output_type": "stream",
     "text": [
      "Enter the age: 68\n",
      "You can get your pension benefits\n",
      "Enter your name: Aaron\n",
      "One of the top 5 baseball players, ever!\n",
      "Enter the hits: 16\n",
      "Enter the shield value: 0\n",
      "You're dead...\n",
      "I can escape.\n"
     ]
    }
   ],
   "source": [
    "#Question No: 2\n",
    "age = int(input('Enter the age: '))\n",
    "if age > 62:\n",
    "    print('You can get your pension benefits')\n",
    "lst = ['Musial','Aaron','Williams','Gehrig','Ruth']\n",
    "name = str(input('Enter your name: '))\n",
    "if name in lst:\n",
    "    print('One of the top 5 baseball players, ever!')\n",
    "hits = int(input('Enter the hits: '))\n",
    "shield = int(input('Enter the shield value: '))\n",
    "if hits > 10 and shield == 0:\n",
    "    print('You\\'re dead...')\n",
    "north = False\n",
    "south = False\n",
    "east = True\n",
    "west = False\n",
    "if north or south or east or west:\n",
    "    print('I can escape.')"
   ]
  },
  {
   "cell_type": "code",
   "execution_count": 5,
   "metadata": {},
   "outputs": [
    {
     "name": "stdout",
     "output_type": "stream",
     "text": [
      "Enter the year: 2016\n",
      "Could be a leap year.\n",
      "You won!\n"
     ]
    }
   ],
   "source": [
    "#Question No: 3\n",
    "year = int(input('Enter the year: '))\n",
    "if year % 4 == 0:\n",
    "    print('Could be a leap year.')\n",
    "else:\n",
    "    print('Definitely not a leap year.')\n",
    "lottery = [32, 51, 77, 18, 24]\n",
    "ticket = [32, 51, 77, 18, 24]\n",
    "if ticket == lottery:\n",
    "    print('You won!')\n",
    "else:\n",
    "    print('Better luck next time...')"
   ]
  },
  {
   "cell_type": "code",
   "execution_count": 8,
   "metadata": {},
   "outputs": [
    {
     "name": "stdout",
     "output_type": "stream",
     "text": [
      "Enter ID: Fahad\n",
      "You are in!\n",
      "Done.\n"
     ]
    }
   ],
   "source": [
    "#Question No: 4\n",
    "users = ['Fahad','Hamza','Hammad','Zain','Ali','Umer']\n",
    "id = input('Enter ID: ')\n",
    "if id in users:\n",
    "    print('You are in!')\n",
    "else:\n",
    "    print('User unknown.')\n",
    "print('Done.')"
   ]
  },
  {
   "cell_type": "code",
   "execution_count": 81,
   "metadata": {},
   "outputs": [
    {
     "name": "stdout",
     "output_type": "stream",
     "text": [
      "stop\n",
      "post\n"
     ]
    }
   ],
   "source": [
    "#Question No: 5\n",
    "lst = ['stop','desktop','top','post']\n",
    "for i in lst:\n",
    "    if len(i) == 4:\n",
    "        print(i)"
   ]
  },
  {
   "cell_type": "code",
   "execution_count": 20,
   "metadata": {},
   "outputs": [
    {
     "name": "stdout",
     "output_type": "stream",
     "text": [
      "0\n",
      "1\n",
      "2\n",
      "3\n",
      "4\n",
      "5\n",
      "6\n",
      "7\n",
      "8\n",
      "9\n",
      "\n",
      "0\n",
      "1\n"
     ]
    }
   ],
   "source": [
    "#Question No: 6\n",
    "for i in range(10):\n",
    "    print(i)\n",
    "print()\n",
    "for j in range(2):\n",
    "    print(j)"
   ]
  },
  {
   "cell_type": "code",
   "execution_count": 21,
   "metadata": {},
   "outputs": [
    {
     "name": "stdout",
     "output_type": "stream",
     "text": [
      "3\n",
      "4\n",
      "5\n",
      "6\n",
      "7\n",
      "8\n",
      "9\n",
      "10\n",
      "11\n",
      "12\n",
      "\n",
      "0\n",
      "2\n",
      "4\n",
      "6\n",
      "8\n",
      "\n",
      "0\n",
      "3\n",
      "6\n",
      "9\n",
      "12\n",
      "15\n",
      "18\n",
      "21\n",
      "\n",
      "3\n",
      "8\n"
     ]
    }
   ],
   "source": [
    "#Question No: 7\n",
    "for i in range(3, 13):\n",
    "    print(i)\n",
    "print()\n",
    "for j in range(0, 9, 2):\n",
    "    print(j)\n",
    "print()\n",
    "for k in range(0, 24, 3):\n",
    "    print(k)\n",
    "print()\n",
    "for l in range(3, 12, 5):\n",
    "    print(l)"
   ]
  },
  {
   "cell_type": "code",
   "execution_count": 22,
   "metadata": {},
   "outputs": [
    {
     "data": {
      "text/plain": [
       "18.84955592153876"
      ]
     },
     "execution_count": 22,
     "metadata": {},
     "output_type": "execute_result"
    }
   ],
   "source": [
    "#Question No: 8\n",
    "from math import pi\n",
    "def perimeter(radius):\n",
    "    return 2*pi*radius\n",
    "perimeter(3)"
   ]
  },
  {
   "cell_type": "code",
   "execution_count": 50,
   "metadata": {},
   "outputs": [
    {
     "data": {
      "text/plain": [
       "6.0"
      ]
     },
     "execution_count": 50,
     "metadata": {},
     "output_type": "execute_result"
    }
   ],
   "source": [
    "#Question No: 9, Checks the average of two numbers\n",
    "def average(no1, no2):\n",
    "    return (no1+no2)/2\n",
    "average(5, 7)"
   ]
  },
  {
   "cell_type": "code",
   "execution_count": 32,
   "metadata": {},
   "outputs": [
    {
     "data": {
      "text/plain": [
       "False"
      ]
     },
     "execution_count": 32,
     "metadata": {},
     "output_type": "execute_result"
    }
   ],
   "source": [
    "#Question No: 10\n",
    "def noVowel(string):\n",
    "    for i in string:\n",
    "        if i in 'aeiouAEIOU':\n",
    "            return False\n",
    "    return True\n",
    "noVowel('Fahad')"
   ]
  },
  {
   "cell_type": "code",
   "execution_count": 38,
   "metadata": {},
   "outputs": [
    {
     "data": {
      "text/plain": [
       "True"
      ]
     },
     "execution_count": 38,
     "metadata": {},
     "output_type": "execute_result"
    }
   ],
   "source": [
    "#Question No: 11\n",
    "def allEven(lst):\n",
    "    for i in lst:\n",
    "        if i%2 != 0:\n",
    "            return False\n",
    "    return True\n",
    "allEven([10, 2, 42, 4, 12])"
   ]
  },
  {
   "cell_type": "code",
   "execution_count": 48,
   "metadata": {},
   "outputs": [
    {
     "name": "stdout",
     "output_type": "stream",
     "text": [
      "-1\n",
      "-3\n",
      "-9\n"
     ]
    }
   ],
   "source": [
    "#Question No: 12, Checks wheter list contains negative numbers or not\n",
    "def negatives(lst):\n",
    "    for i in lst:\n",
    "        if i%2 != 0:\n",
    "            print(i)\n",
    "negatives([4, 0, -1, -3, 6, -9])"
   ]
  },
  {
   "cell_type": "code",
   "execution_count": 51,
   "metadata": {},
   "outputs": [
    {
     "name": "stdout",
     "output_type": "stream",
     "text": [
      "Help on function average in module __main__:\n",
      "\n",
      "average(no1, no2)\n",
      "    #Question No: 9, Checks the average of two numbers\n",
      "\n",
      "Help on function negatives in module __main__:\n",
      "\n",
      "negatives(lst)\n",
      "    #Question No: 12, Checks wheter list contains negative numbers or not\n",
      "\n"
     ]
    }
   ],
   "source": [
    "#Question No: 13\n",
    "help(average)\n",
    "help(negatives)"
   ]
  },
  {
   "cell_type": "code",
   "execution_count": 52,
   "metadata": {},
   "outputs": [
    {
     "name": "stdout",
     "output_type": "stream",
     "text": [
      "['Sarah', 'Eleanor', 'Clare', 'Ava']\n"
     ]
    }
   ],
   "source": [
    "#Question No: 15\n",
    "team = ['Ava','Eleanor','Clare','Sarah']\n",
    "team2 = team[0]\n",
    "team[0] = team[-1]\n",
    "team[-1] = team2\n",
    "print(team)"
   ]
  },
  {
   "cell_type": "code",
   "execution_count": 59,
   "metadata": {},
   "outputs": [
    {
     "name": "stdout",
     "output_type": "stream",
     "text": [
      "['apples', 'sugar', 'butter', 'flour']\n"
     ]
    }
   ],
   "source": [
    "#Question No: 16\n",
    "def swapFL(ingredients):\n",
    "    ingredients2 = ingredients[0]\n",
    "    ingredients[0] = ingredients[-1]\n",
    "    ingredients[-1] = ingredients2\n",
    "    print(ingredients)\n",
    "swapFL(['flour','sugar','butter','apples'])"
   ]
  },
  {
   "cell_type": "code",
   "execution_count": 210,
   "metadata": {},
   "outputs": [
    {
     "name": "stdout",
     "output_type": "stream",
     "text": [
      "7\n",
      "Hello world!\n",
      "2\n"
     ]
    },
    {
     "ename": "NameError",
     "evalue": "name 'hello' is not defined",
     "output_type": "error",
     "traceback": [
      "\u001b[1;31m---------------------------------------------------------------------------\u001b[0m",
      "\u001b[1;31mNameError\u001b[0m                                 Traceback (most recent call last)",
      "\u001b[1;32m<ipython-input-210-59eb9a83cb0c>\u001b[0m in \u001b[0;36m<module>\u001b[1;34m\u001b[0m\n\u001b[0;32m      9\u001b[0m \u001b[0mprint\u001b[0m\u001b[1;33m(\u001b[0m\u001b[0ms4\u001b[0m\u001b[1;33m)\u001b[0m\u001b[1;33m\u001b[0m\u001b[1;33m\u001b[0m\u001b[0m\n\u001b[0;32m     10\u001b[0m \u001b[1;33m\u001b[0m\u001b[0m\n\u001b[1;32m---> 11\u001b[1;33m \u001b[0ms2\u001b[0m \u001b[1;33m=\u001b[0m \u001b[0meval\u001b[0m\u001b[1;33m(\u001b[0m\u001b[1;34m'hello'\u001b[0m\u001b[1;33m)\u001b[0m\u001b[1;33m\u001b[0m\u001b[1;33m\u001b[0m\u001b[0m\n\u001b[0m\u001b[0;32m     12\u001b[0m \u001b[0mprint\u001b[0m\u001b[1;33m(\u001b[0m\u001b[0ms2\u001b[0m\u001b[1;33m)\u001b[0m\u001b[1;33m\u001b[0m\u001b[1;33m\u001b[0m\u001b[0m\n\u001b[0;32m     13\u001b[0m \u001b[1;31m#Erros occurs because name hello is not an expression and it has not been defined any value\u001b[0m\u001b[1;33m\u001b[0m\u001b[1;33m\u001b[0m\u001b[1;33m\u001b[0m\u001b[0m\n",
      "\u001b[1;32m<string>\u001b[0m in \u001b[0;36m<module>\u001b[1;34m\u001b[0m\n",
      "\u001b[1;31mNameError\u001b[0m: name 'hello' is not defined"
     ]
    }
   ],
   "source": [
    "#Question No: 17\n",
    "s1 = eval('2*3+1')\n",
    "print(s1)\n",
    "\n",
    "s3 = eval(\"'Hello' + ' ' + 'world!'\")\n",
    "print(s3)\n",
    "\n",
    "s4 = eval(\"'ASCII'.count('I')\")\n",
    "print(s4)\n",
    "\n",
    "s2 = eval('hello')\n",
    "print(s2)\n",
    "#Erros occurs because name hello is not an expression and it has not been defined any value\n",
    "s5 = eval('x = 5')\n",
    "print(s5)\n",
    "#Error occus because we cannot define a value to a variable inside eval() function"
   ]
  },
  {
   "cell_type": "code",
   "execution_count": 74,
   "metadata": {},
   "outputs": [
    {
     "name": "stdout",
     "output_type": "stream",
     "text": [
      "OK\n",
      "OK\n"
     ]
    }
   ],
   "source": [
    "#Question No: 18\n",
    "a, b, c = 3, 4, 5\n",
    "if a>b:\n",
    "    print('OK')\n",
    "if c>b:\n",
    "    print('OK')\n",
    "Sum = a+b\n",
    "if Sum ==c:\n",
    "    print('OK')\n",
    "SUM = (a**2 + b**2)\n",
    "if SUM == c**2:\n",
    "    print('OK')"
   ]
  },
  {
   "cell_type": "code",
   "execution_count": 73,
   "metadata": {},
   "outputs": [
    {
     "name": "stdout",
     "output_type": "stream",
     "text": [
      "NOT OK\n",
      "OK\n",
      "NOT OK\n",
      "OK\n"
     ]
    }
   ],
   "source": [
    "#Question No: 19\n",
    "a, b, c = 3, 4, 5\n",
    "if a > b:\n",
    "    print('OK')\n",
    "else:\n",
    "    print('NOT OK')\n",
    "\n",
    "if c>b:\n",
    "    print('OK')\n",
    "else:\n",
    "    print('NOT OK')\n",
    "\n",
    "Sum = a+b\n",
    "if Sum ==c:\n",
    "    print('OK')\n",
    "else:\n",
    "    print('NOT OK')\n",
    "\n",
    "SUM = (a**2 + b**2)\n",
    "if SUM == c**2:\n",
    "    print('OK')\n",
    "else:\n",
    "    print('NOT OK')"
   ]
  },
  {
   "cell_type": "code",
   "execution_count": 79,
   "metadata": {},
   "outputs": [
    {
     "name": "stdout",
     "output_type": "stream",
     "text": [
      "Jan\n",
      "Feb\n",
      "Mar\n",
      "Apr\n"
     ]
    }
   ],
   "source": [
    "#Question No: 20\n",
    "lst = ['January','February','March','April']\n",
    "for i in lst:\n",
    "    print(i[:3])"
   ]
  },
  {
   "cell_type": "code",
   "execution_count": 80,
   "metadata": {},
   "outputs": [
    {
     "name": "stdout",
     "output_type": "stream",
     "text": [
      "2\n",
      "4\n",
      "6\n",
      "8\n"
     ]
    }
   ],
   "source": [
    "#Question No: 21\n",
    "Lst = [2, 3, 4, 5, 6, 7, 8, 9]\n",
    "for i in Lst:\n",
    "    if i%2 == 0:\n",
    "        print(i)"
   ]
  },
  {
   "cell_type": "code",
   "execution_count": 85,
   "metadata": {},
   "outputs": [
    {
     "name": "stdout",
     "output_type": "stream",
     "text": [
      "4\n",
      "8\n"
     ]
    }
   ],
   "source": [
    "#Question No: 22\n",
    "LST = [2, 3, 4, 5, 6, 7, 8, 9]\n",
    "for i in LST:\n",
    "    if (i**2) % 8 == 0:\n",
    "        print(i)"
   ]
  },
  {
   "cell_type": "code",
   "execution_count": 91,
   "metadata": {},
   "outputs": [
    {
     "name": "stdout",
     "output_type": "stream",
     "text": [
      "0 1 \n",
      "0 \n",
      "3 4 5 6 \n",
      "1 \n",
      "0 3 \n",
      "5 9 13 17 21 "
     ]
    }
   ],
   "source": [
    "#Question No: 23\n",
    "for i in range(0, 2):\n",
    "    print(i, end=' ')\n",
    "print()\n",
    "for j in range(0, 1):\n",
    "    print(j, end=' ')\n",
    "print()\n",
    "for k in range(3, 7):\n",
    "    print(k, end=' ')\n",
    "print()\n",
    "for l in range(1, 2):\n",
    "    print(l, end=' ')\n",
    "print()\n",
    "for m in range(0, 4, 3):\n",
    "    print(m, end=' ')\n",
    "print()\n",
    "for n in range(5, 22, 4):\n",
    "    print(n, end=' ')"
   ]
  },
  {
   "cell_type": "code",
   "execution_count": 97,
   "metadata": {},
   "outputs": [
    {
     "name": "stdout",
     "output_type": "stream",
     "text": [
      "Enter the word list: ['cia','secret','mi6','isi','secret','major']\n",
      "cia\n",
      "mi6\n",
      "isi\n",
      "major\n"
     ]
    }
   ],
   "source": [
    "#Question No: 24\n",
    "words = eval(input('Enter the word list: '))\n",
    "for i in words:\n",
    "    if len(i) != 6:\n",
    "        print(i)"
   ]
  },
  {
   "cell_type": "code",
   "execution_count": 110,
   "metadata": {},
   "outputs": [
    {
     "name": "stdout",
     "output_type": "stream",
     "text": [
      "Enter the list: ['Ellie','Sam','Steve','Owen','Gavin']\n",
      "Ellie\n",
      "Gavin\n"
     ]
    }
   ],
   "source": [
    "#Question No: 25\n",
    "List = eval(input('Enter the list: '))\n",
    "letters = ['A','B','C','D','E','F','G','H','I','J','K','L','M']\n",
    "for i in List:\n",
    "    for j in letters:\n",
    "        if i[0] == j:\n",
    "            print(i)"
   ]
  },
  {
   "cell_type": "code",
   "execution_count": 111,
   "metadata": {},
   "outputs": [
    {
     "name": "stdout",
     "output_type": "stream",
     "text": [
      "Enter the list of numbers: [3, 5, 7, 9, 12]\n",
      "The first element is: 3\n",
      "The last elemnt is: 12\n"
     ]
    }
   ],
   "source": [
    "#Question No: 26\n",
    "numbers = eval(input('Enter the list of numbers: '))\n",
    "print('The first element is:',numbers[0])\n",
    "print('The last elemnt is:',numbers[-1])"
   ]
  },
  {
   "cell_type": "code",
   "execution_count": 122,
   "metadata": {},
   "outputs": [
    {
     "name": "stdout",
     "output_type": "stream",
     "text": [
      "Enter the number: 5\n",
      "0\n",
      "5\n",
      "10\n",
      "15\n"
     ]
    }
   ],
   "source": [
    "#Question No: 27\n",
    "multiples = eval(input('Enter the number: '))\n",
    "for i in range(multiples-1):\n",
    "    print(i*multiples)"
   ]
  },
  {
   "cell_type": "code",
   "execution_count": 127,
   "metadata": {},
   "outputs": [
    {
     "name": "stdout",
     "output_type": "stream",
     "text": [
      "Enter the number: 3\n",
      "0\n",
      "1\n",
      "4\n"
     ]
    }
   ],
   "source": [
    "#Question No: 28\n",
    "squares = eval(input('Enter the number: '))\n",
    "for i in range(squares):\n",
    "    print(i**2)"
   ]
  },
  {
   "cell_type": "code",
   "execution_count": 134,
   "metadata": {},
   "outputs": [
    {
     "name": "stdout",
     "output_type": "stream",
     "text": [
      "Enter the number: 49\n",
      "1\n",
      "7\n",
      "49\n"
     ]
    }
   ],
   "source": [
    "#Question No: 29\n",
    "divisors = eval(input('Enter the number: '))\n",
    "for i in range(1, divisors+1):\n",
    "    if divisors % i == 0:\n",
    "        print(i)"
   ]
  },
  {
   "cell_type": "code",
   "execution_count": 138,
   "metadata": {},
   "outputs": [
    {
     "name": "stdout",
     "output_type": "stream",
     "text": [
      "Enter the first number: 4.5\n",
      "Enter the second number: 3\n",
      "Enter the third number: 3\n",
      "Enter the fourth number: 3.5\n",
      "Equal\n"
     ]
    }
   ],
   "source": [
    "#Question No: 30\n",
    "n1 = eval(input('Enter the first number: '))\n",
    "n2 = eval(input('Enter the second number: '))\n",
    "n3 = eval(input('Enter the third number: '))\n",
    "n4 = eval(input('Enter the fourth number: '))\n",
    "avg = (n1+n2+n3) / 3\n",
    "if avg == n4:\n",
    "    print('Equal')"
   ]
  },
  {
   "cell_type": "code",
   "execution_count": 152,
   "metadata": {},
   "outputs": [
    {
     "name": "stdout",
     "output_type": "stream",
     "text": [
      "Enter x coordinate: 2.5\n",
      "Enter y coordinate: 4\n",
      "It is in!\n"
     ]
    }
   ],
   "source": [
    "#Question No: 31\n",
    "x = eval(input('Enter x coordinate: '))\n",
    "y = eval(input('Enter y coordinate: '))\n",
    "radius = 8\n",
    "a = x >= -10 and x <= 10\n",
    "b = y >= -10 and y <= 10\n",
    "if a and b:\n",
    "    print('It is in!')"
   ]
  },
  {
   "cell_type": "code",
   "execution_count": 170,
   "metadata": {},
   "outputs": [
    {
     "name": "stdout",
     "output_type": "stream",
     "text": [
      "Enter the number: 1234\n",
      "1\n",
      "2\n",
      "3\n",
      "4\n"
     ]
    }
   ],
   "source": [
    "#Question No: 32\n",
    "x = int(input('Enter the number: '))\n",
    "print(x//x)\n",
    "print(x-x+2)\n",
    "print(x-x+3)\n",
    "print(x-x+4)"
   ]
  },
  {
   "cell_type": "code",
   "execution_count": 214,
   "metadata": {},
   "outputs": [
    {
     "data": {
      "text/plain": [
       "'cba'"
      ]
     },
     "execution_count": 214,
     "metadata": {},
     "output_type": "execute_result"
    }
   ],
   "source": [
    "#Question No: 33\n",
    "def reverse_string(s1):\n",
    "    if len(s1)<=3:\n",
    "        return s1[::-1]\n",
    "reverse_string('abc')"
   ]
  },
  {
   "cell_type": "code",
   "execution_count": 191,
   "metadata": {},
   "outputs": [
    {
     "data": {
      "text/plain": [
       "615.0"
      ]
     },
     "execution_count": 191,
     "metadata": {},
     "output_type": "execute_result"
    }
   ],
   "source": [
    "#Question No: 34\n",
    "def pay(hourlyWage, hoursWorked):\n",
    "    if hoursWorked >= 40:\n",
    "        return (hourlyWage*1.5) * hoursWorked\n",
    "    else:\n",
    "        return hourlyWage*hoursWorked\n",
    "pay(10, 41)"
   ]
  },
  {
   "cell_type": "code",
   "execution_count": 334,
   "metadata": {},
   "outputs": [
    {
     "data": {
      "text/plain": [
       "0.5"
      ]
     },
     "execution_count": 334,
     "metadata": {},
     "output_type": "execute_result"
    }
   ],
   "source": [
    "#Question No: 35\n",
    "def prob(n):\n",
    "    if n > 0:\n",
    "        return 2**-n\n",
    "prob(1)"
   ]
  },
  {
   "cell_type": "code",
   "execution_count": 335,
   "metadata": {},
   "outputs": [
    {
     "data": {
      "text/plain": [
       "321"
      ]
     },
     "execution_count": 335,
     "metadata": {},
     "output_type": "execute_result"
    }
   ],
   "source": [
    "#Question No: 36\n",
    "def reverse_int(integer):\n",
    "    reversed_int = 0\n",
    "    while (integer > 0):\n",
    "        remainder = integer % 10\n",
    "        reversed_int = (reversed_int*10) + remainder\n",
    "        integer = integer // 10\n",
    "    return reversed_int\n",
    "reverse_int(123)"
   ]
  },
  {
   "cell_type": "code",
   "execution_count": 224,
   "metadata": {},
   "outputs": [
    {
     "name": "stdout",
     "output_type": "stream",
     "text": [
      "The slope is 1.0 and the distance is 1.4142135623730951\n"
     ]
    }
   ],
   "source": [
    "#Question No: 37\n",
    "from math import sqrt\n",
    "def points(x1, y1, x2, y2):\n",
    "    if x2-x1 != 0:\n",
    "        slope = (y2-y1)/(x2-x1)\n",
    "        dist = sqrt((x2-x1)**2 + (y2-y1)**2)\n",
    "        print('The slope is',slope,'and the distance is',dist)\n",
    "    else:\n",
    "        slope = str('infinity')\n",
    "        dist = sqrt((x2-x1)**2 + (y2-y1)**2)\n",
    "        print('The slope is',slope,'and the distance is',dist)\n",
    "points(0, 0, 1, 1)"
   ]
  },
  {
   "cell_type": "code",
   "execution_count": 226,
   "metadata": {},
   "outputs": [
    {
     "data": {
      "text/plain": [
       "'Mo'"
      ]
     },
     "execution_count": 226,
     "metadata": {},
     "output_type": "execute_result"
    }
   ],
   "source": [
    "#Question No: 38\n",
    "def abbreviation(day):\n",
    "    return day[0:2]\n",
    "abbreviation('Monday')"
   ]
  },
  {
   "cell_type": "code",
   "execution_count": 295,
   "metadata": {},
   "outputs": [
    {
     "data": {
      "text/plain": [
       "True"
      ]
     },
     "execution_count": 295,
     "metadata": {},
     "output_type": "execute_result"
    }
   ],
   "source": [
    "#Question No: 39\n",
    "from math import sqrt\n",
    "def collision(x1, y1, r1, x2, y2, r2):\n",
    "    dist = sqrt((x2-x1)**2 + (y2-y1)**2)\n",
    "    if dist <= (r1+r2):\n",
    "        return True\n",
    "    else:\n",
    "        return False\n",
    "collision(0, 0, 3, 0, 5, 3)"
   ]
  },
  {
   "cell_type": "code",
   "execution_count": 227,
   "metadata": {},
   "outputs": [
    {
     "name": "stdout",
     "output_type": "stream",
     "text": [
      "Eleanor\n",
      "Evelynn\n",
      "Gavin\n"
     ]
    }
   ],
   "source": [
    "#Question No: 40\n",
    "def partition(names):\n",
    "    letters = ['A','B','C','D','E','F','G','H','I','J','K','L','M']\n",
    "    for i in names:\n",
    "        for j in letters:\n",
    "            if i[0] == j:\n",
    "                print(i)\n",
    "partition(['Eleanor','Evelynn','Sammy','Owen','Gavin'])"
   ]
  },
  {
   "cell_type": "code",
   "execution_count": 242,
   "metadata": {},
   "outputs": [
    {
     "name": "stdout",
     "output_type": "stream",
     "text": [
      "Einstein A.\n"
     ]
    }
   ],
   "source": [
    "#Question No: 41\n",
    "def lastF(FirstName, LastName):\n",
    "    print(LastName, FirstName[0]+'.')\n",
    "lastF('Albert', 'Einstein')"
   ]
  },
  {
   "cell_type": "code",
   "execution_count": 328,
   "metadata": {},
   "outputs": [
    {
     "name": "stdout",
     "output_type": "stream",
     "text": [
      "90.0\n",
      "60.0\n",
      "87.0\n",
      "11.0\n"
     ]
    }
   ],
   "source": [
    "#Question No: 42\n",
    "def avg(LIST):\n",
    "    a = sum(LIST[0]) / len(LIST[0])\n",
    "    print(a)\n",
    "    b = sum(LIST[1]) / len(LIST[1])\n",
    "    print(b)\n",
    "    c = sum(LIST[2]) / len(LIST[2])\n",
    "    print(c)\n",
    "    d = sum(LIST[3]) / len(LIST[3])\n",
    "    print(d)\n",
    "avg([[95, 92, 86, 87], [66, 54], [89, 72, 100], [33, 0, 0]])"
   ]
  },
  {
   "cell_type": "code",
   "execution_count": 299,
   "metadata": {},
   "outputs": [
    {
     "data": {
      "text/plain": [
       "True"
      ]
     },
     "execution_count": 299,
     "metadata": {},
     "output_type": "execute_result"
    }
   ],
   "source": [
    "#Question No: 43\n",
    "def hit(x1, y1, r, x2, y2):\n",
    "    D = (x2-x1)**2 + (y2-y1)**2\n",
    "    R = r**2\n",
    "    if D <= R:\n",
    "        return True\n",
    "    return False\n",
    "hit(0, 0, 3, 3, 0)"
   ]
  },
  {
   "cell_type": "code",
   "execution_count": 286,
   "metadata": {},
   "outputs": [
    {
     "data": {
      "text/plain": [
       "1.0208700000000002"
      ]
     },
     "execution_count": 286,
     "metadata": {},
     "output_type": "execute_result"
    }
   ],
   "source": [
    "#Question No: 44\n",
    "def distance(num):\n",
    "    speed_light = 340.29\n",
    "    return (num * speed_light) / 1000\n",
    "distance(3)"
   ]
  }
 ],
 "metadata": {
  "kernelspec": {
   "display_name": "Python 3",
   "language": "python",
   "name": "python3"
  },
  "language_info": {
   "codemirror_mode": {
    "name": "ipython",
    "version": 3
   },
   "file_extension": ".py",
   "mimetype": "text/x-python",
   "name": "python",
   "nbconvert_exporter": "python",
   "pygments_lexer": "ipython3",
   "version": "3.7.3"
  }
 },
 "nbformat": 4,
 "nbformat_minor": 2
}
